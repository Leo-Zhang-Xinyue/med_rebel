{
 "cells": [
  {
   "cell_type": "code",
   "execution_count": 1,
   "id": "8d83f6fa",
   "metadata": {},
   "outputs": [],
   "source": [
    "import json\n",
    "import os.path"
   ]
  },
  {
   "cell_type": "code",
   "execution_count": null,
   "id": "37909990",
   "metadata": {},
   "outputs": [],
   "source": [
    "with open(output_file, 'w', buffering=128) as fw:"
   ]
  }
 ],
 "metadata": {
  "kernelspec": {
   "display_name": "Python [conda env:.conda-py39] *",
   "language": "python",
   "name": "conda-env-.conda-py39-py"
  },
  "language_info": {
   "codemirror_mode": {
    "name": "ipython",
    "version": 3
   },
   "file_extension": ".py",
   "mimetype": "text/x-python",
   "name": "python",
   "nbconvert_exporter": "python",
   "pygments_lexer": "ipython3",
   "version": "3.9.18"
  }
 },
 "nbformat": 4,
 "nbformat_minor": 5
}
